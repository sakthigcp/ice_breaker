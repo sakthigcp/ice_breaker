{
 "cells": [
  {
   "cell_type": "code",
   "execution_count": 12,
   "metadata": {},
   "outputs": [
    {
     "name": "stdout",
     "output_type": "stream",
     "text": [
      "Why did the Generative AI go to therapy?\n",
      "\n",
      "Because it was struggling to generate new perspectives and was feeling a little \"boxed in\" by its own limitations! (get it?)\n",
      "<class 'str'>\n"
     ]
    }
   ],
   "source": [
    "# Ollama test\n",
    "from langchain_community.chat_models import ChatOllama\n",
    "from langchain_core.prompts import ChatPromptTemplate\n",
    "from langchain_core.output_parsers import StrOutputParser\n",
    "\n",
    "model = \"llama3.2\"\n",
    "prompt_text = \"Tell me a joke about {topic}\"\n",
    "\n",
    "llm = ChatOllama(model=model,temperature=1)\n",
    "prompt = ChatPromptTemplate.from_template(template=prompt_text)\n",
    "chain = prompt | llm | StrOutputParser()\n",
    "\n",
    "res = chain.invoke({\"topic\":\"GenAI\"})\n",
    "print(res)\n",
    "print(type(res))"
   ]
  },
  {
   "cell_type": "code",
   "execution_count": 11,
   "metadata": {},
   "outputs": [
    {
     "name": "stdout",
     "output_type": "stream",
     "text": [
      "content='Why did the football go to the doctor?\\n\\nBecause it was feeling a little deflated! (get it?)' additional_kwargs={} response_metadata={'model': 'llama3.2', 'created_at': '2025-02-10T07:45:51.003224Z', 'message': {'role': 'assistant', 'content': ''}, 'done_reason': 'stop', 'done': True, 'total_duration': 1184844000, 'load_duration': 31828667, 'prompt_eval_count': 31, 'prompt_eval_duration': 199000000, 'eval_count': 23, 'eval_duration': 952000000} id='run-a5624ba5-fc75-4a60-ad75-d8741b4962d2-0'\n",
      "Id          : run-a5624ba5-fc75-4a60-ad75-d8741b4962d2-0\n",
      "Content     : Why did the football go to the doctor?\n",
      "\n",
      "Because it was feeling a little deflated! (get it?)\n",
      "Model config: {'extra': 'allow'}\n",
      "Name        : None\n",
      "<class 'langchain_core.messages.ai.AIMessage'>\n"
     ]
    }
   ],
   "source": [
    "from langchain_community.chat_models import ChatOllama\n",
    "from langchain_core.prompts import ChatPromptTemplate\n",
    "from langchain_core.output_parsers import StrOutputParser\n",
    "\n",
    "model = \"llama3.2\"\n",
    "prompt_text = \"Tell me a joke about {topic}\"\n",
    "\n",
    "llm = ChatOllama(model=model)\n",
    "prompt = ChatPromptTemplate.from_template(template=prompt_text)\n",
    "\n",
    "chain = prompt | llm\n",
    "\n",
    "res = chain.invoke({\"topic\":\"Football\"})\n",
    "print(res)\n",
    "print(f\"Id          : {res.id}\")\n",
    "print(f\"Content     : {res.content}\")\n",
    "print(f\"Model config: {res.model_config}\")\n",
    "print(f\"Name        : {res.name}\")\n",
    "print(type(res))"
   ]
  }
 ],
 "metadata": {
  "kernelspec": {
   "display_name": "ice_breaker-qt8lsiYt",
   "language": "python",
   "name": "python3"
  },
  "language_info": {
   "codemirror_mode": {
    "name": "ipython",
    "version": 3
   },
   "file_extension": ".py",
   "mimetype": "text/x-python",
   "name": "python",
   "nbconvert_exporter": "python",
   "pygments_lexer": "ipython3",
   "version": "3.11.6"
  }
 },
 "nbformat": 4,
 "nbformat_minor": 2
}
